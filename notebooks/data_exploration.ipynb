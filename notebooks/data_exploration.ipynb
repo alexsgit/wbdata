{
 "cells": [
  {
   "cell_type": "code",
   "execution_count": 1,
   "id": "initial_id",
   "metadata": {
    "collapsed": true,
    "ExecuteTime": {
     "end_time": "2023-11-12T06:14:38.933263Z",
     "start_time": "2023-11-12T06:14:33.489371Z"
    }
   },
   "outputs": [],
   "source": [
    "import wbgapi\n",
    "import wbgapi as wb"
   ]
  },
  {
   "cell_type": "code",
   "execution_count": 2,
   "outputs": [
    {
     "data": {
      "text/plain": "id    name                                                                  code      concepts  lastupdated\n----  --------------------------------------------------------------------  ------  ----------  -------------\n1     Doing Business                                                        DBS              3  2021-08-18\n2     World Development Indicators                                          WDI              3  2023-10-26\n3     Worldwide Governance Indicators                                       WGI              3  2023-09-29\n5     Subnational Malnutrition Database                                     SNM              3  2016-03-21\n6     International Debt Statistics                                         IDS              4  2022-12-06\n11    Africa Development Indicators                                         ADI              3  2013-02-22\n12    Education Statistics                                                  EDS              3  2023-10-12\n13    Enterprise Surveys                                                    ESY              3  2022-03-25\n14    Gender Statistics                                                     GDS              3  2023-10-30\n15    Global Economic Monitor                                               GEM              3  2023-07-21\n16    Health Nutrition and Population Statistics                            HNP              3  2023-09-21\n18    IDA Results Measurement System                                        IDA              3  2021-07-23\n19    Millennium Development Goals                                          MDG              3  2018-09-19\n20    Quarterly Public Sector Debt                                          PSD              3  2023-11-10\n22    Quarterly External Debt Statistics SDDS                               QDS              3  2023-10-31\n23    Quarterly External Debt Statistics GDDS                               QDG              3  2023-10-31\n25    Jobs                                                                  JOB              3  2022-06-29\n27    Global Economic Prospects                                             GEP              3  2023-06-06\n28    Global Financial Inclusion                                            FDX              3  2023-04-12\n29    The Atlas of Social Protection: Indicators of Resilience and Equity   GSP              3  2023-05-23\n30    Exporter Dynamics Database – Indicators at Country-Year Level         ED1              3  2016-03-31\n31    Country Policy and Institutional Assessment                           CPI              3  2023-07-24\n32    Global Financial Development                                          GFD              3  2022-09-23\n33    G20 Financial Inclusion Indicators                                    G2F              3  2019-02-27\n34    Global Partnership for Education                                      GPE              3  2013-04-12\n35    Sustainable Energy for All                                            SE4              3  2018-06-30\n37    LAC Equity Lab                                                        LEL              3  2016-04-06\n38    Subnational Poverty                                                   SNP              3  2015-04-27\n39    Health Nutrition and Population Statistics by Wealth Quintile         HNQ              3  2022-12-13\n40    Population estimates and projections                                  HPP              3  2023-07-05\n41    Country Partnership Strategy for India (FY2013 - 17)                  CPS              3  2015-05-22\n43    Adjusted Net Savings                                                  WAT              3  2023-06-08\n45    Indonesia Database for Policy and Economic Research                   IDD              3  2022-08-11\n46    Sustainable Development Goals                                         SDG              3  2022-07-22\n50    Subnational Population                                                SNT              3  2017-09-21\n54    Joint External Debt Hub                                               JED              3  2023-09-13\n57    WDI Database Archives                                                 WDA              4  2023-08-10\n58    Universal Health Coverage                                             UHC              3  2019-04-25\n59    Wealth Accounts                                                       WAC              3  2021-10-27\n60    Economic Fitness                                                      EFT              3  2018-04-19\n61    PPPs Regulatory Quality                                               PRQ              3  2019-04-25\n62    International Comparison Program (ICP) 2011                           ICP              4  2020-08-24\n63    Human Capital Index                                                   HCI              3  2020-09-21\n64    Worldwide Bureaucracy Indicators                                      WBI              3  2022-09-20\n65    Health Equity and Financial Protection Indicators                     HPI              3  2019-11-06\n66    Logistics Performance Index                                           LPI              3  2019-10-29\n67    PEFA 2011                                                             PF1              4  2022-11-23\n68    PEFA 2016                                                             PF6              4  2023-10-27\n69    Global Financial Inclusion and Consumer Protection Survey             RFA              3  2019-06-27\n70    Economic Fitness 2                                                    EF2              3  2022-07-21\n71    International Comparison Program (ICP) 2005                           IC5              4  2021-09-10\n73    Global Financial Inclusion and Consumer Protection Survey (Internal)  RFI              3  2019-06-27\n75    Environment, Social and Governance (ESG) Data                         ESG              3  2023-10-02\n76    Remittance Prices Worldwide (Sending Countries)                       RWS              3  2020-12-07\n77    Remittance Prices Worldwide (Receiving Countries)                     RWR              3  2020-12-07\n78    ICP 2017                                                              IC7              4  2020-10-21\n79    PEFA_GRPFM                                                            GRP              4  2023-09-05\n80    Gender Disaggregated Labor Database (GDLD)                            GDL              4  2020-07-25\n81    International Debt Statistics: DSSI                                   DSI              4  2022-12-06\n82    Global Public Procurement                                             GPP              3  2021-03-24\n83    Statistical Performance Indicators (SPI)                              SPI              3  2021-04-01\n84    Education Policy                                                      EDP              3  2023-01-30\n85    PEFA_2021_SNG                                                         SNG              4  2023-10-31\n86    Global Jobs Indicators Database (JOIN)                                JON              3  2023-05-22\n87    Country Climate and Development Report (CCDR)                         CCD              3  2022-10-07\n88    Food Prices for Nutrition                                             FPN              4  2023-07-13\n89    Identification for Development (ID4D) Data                            ID4              3  2022-12-21\n      67 elements",
      "text/html": "<div class=\"wbgapi\"><table>\n<thead>\n<tr><th>id  </th><th>name                                                                </th><th>code  </th><th style=\"text-align: right;\">  concepts</th><th>lastupdated  </th></tr>\n</thead>\n<tbody>\n<tr><td>1   </td><td>Doing Business                                                      </td><td>DBS   </td><td style=\"text-align: right;\">         3</td><td>2021-08-18   </td></tr>\n<tr><td>2   </td><td>World Development Indicators                                        </td><td>WDI   </td><td style=\"text-align: right;\">         3</td><td>2023-10-26   </td></tr>\n<tr><td>3   </td><td>Worldwide Governance Indicators                                     </td><td>WGI   </td><td style=\"text-align: right;\">         3</td><td>2023-09-29   </td></tr>\n<tr><td>5   </td><td>Subnational Malnutrition Database                                   </td><td>SNM   </td><td style=\"text-align: right;\">         3</td><td>2016-03-21   </td></tr>\n<tr><td>6   </td><td>International Debt Statistics                                       </td><td>IDS   </td><td style=\"text-align: right;\">         4</td><td>2022-12-06   </td></tr>\n<tr><td>11  </td><td>Africa Development Indicators                                       </td><td>ADI   </td><td style=\"text-align: right;\">         3</td><td>2013-02-22   </td></tr>\n<tr><td>12  </td><td>Education Statistics                                                </td><td>EDS   </td><td style=\"text-align: right;\">         3</td><td>2023-10-12   </td></tr>\n<tr><td>13  </td><td>Enterprise Surveys                                                  </td><td>ESY   </td><td style=\"text-align: right;\">         3</td><td>2022-03-25   </td></tr>\n<tr><td>14  </td><td>Gender Statistics                                                   </td><td>GDS   </td><td style=\"text-align: right;\">         3</td><td>2023-10-30   </td></tr>\n<tr><td>15  </td><td>Global Economic Monitor                                             </td><td>GEM   </td><td style=\"text-align: right;\">         3</td><td>2023-07-21   </td></tr>\n<tr><td>16  </td><td>Health Nutrition and Population Statistics                          </td><td>HNP   </td><td style=\"text-align: right;\">         3</td><td>2023-09-21   </td></tr>\n<tr><td>18  </td><td>IDA Results Measurement System                                      </td><td>IDA   </td><td style=\"text-align: right;\">         3</td><td>2021-07-23   </td></tr>\n<tr><td>19  </td><td>Millennium Development Goals                                        </td><td>MDG   </td><td style=\"text-align: right;\">         3</td><td>2018-09-19   </td></tr>\n<tr><td>20  </td><td>Quarterly Public Sector Debt                                        </td><td>PSD   </td><td style=\"text-align: right;\">         3</td><td>2023-11-10   </td></tr>\n<tr><td>22  </td><td>Quarterly External Debt Statistics SDDS                             </td><td>QDS   </td><td style=\"text-align: right;\">         3</td><td>2023-10-31   </td></tr>\n<tr><td>23  </td><td>Quarterly External Debt Statistics GDDS                             </td><td>QDG   </td><td style=\"text-align: right;\">         3</td><td>2023-10-31   </td></tr>\n<tr><td>25  </td><td>Jobs                                                                </td><td>JOB   </td><td style=\"text-align: right;\">         3</td><td>2022-06-29   </td></tr>\n<tr><td>27  </td><td>Global Economic Prospects                                           </td><td>GEP   </td><td style=\"text-align: right;\">         3</td><td>2023-06-06   </td></tr>\n<tr><td>28  </td><td>Global Financial Inclusion                                          </td><td>FDX   </td><td style=\"text-align: right;\">         3</td><td>2023-04-12   </td></tr>\n<tr><td>29  </td><td>The Atlas of Social Protection: Indicators of Resilience and Equity </td><td>GSP   </td><td style=\"text-align: right;\">         3</td><td>2023-05-23   </td></tr>\n<tr><td>30  </td><td>Exporter Dynamics Database – Indicators at Country-Year Level       </td><td>ED1   </td><td style=\"text-align: right;\">         3</td><td>2016-03-31   </td></tr>\n<tr><td>31  </td><td>Country Policy and Institutional Assessment                         </td><td>CPI   </td><td style=\"text-align: right;\">         3</td><td>2023-07-24   </td></tr>\n<tr><td>32  </td><td>Global Financial Development                                        </td><td>GFD   </td><td style=\"text-align: right;\">         3</td><td>2022-09-23   </td></tr>\n<tr><td>33  </td><td>G20 Financial Inclusion Indicators                                  </td><td>G2F   </td><td style=\"text-align: right;\">         3</td><td>2019-02-27   </td></tr>\n<tr><td>34  </td><td>Global Partnership for Education                                    </td><td>GPE   </td><td style=\"text-align: right;\">         3</td><td>2013-04-12   </td></tr>\n<tr><td>35  </td><td>Sustainable Energy for All                                          </td><td>SE4   </td><td style=\"text-align: right;\">         3</td><td>2018-06-30   </td></tr>\n<tr><td>37  </td><td>LAC Equity Lab                                                      </td><td>LEL   </td><td style=\"text-align: right;\">         3</td><td>2016-04-06   </td></tr>\n<tr><td>38  </td><td>Subnational Poverty                                                 </td><td>SNP   </td><td style=\"text-align: right;\">         3</td><td>2015-04-27   </td></tr>\n<tr><td>39  </td><td>Health Nutrition and Population Statistics by Wealth Quintile       </td><td>HNQ   </td><td style=\"text-align: right;\">         3</td><td>2022-12-13   </td></tr>\n<tr><td>40  </td><td>Population estimates and projections                                </td><td>HPP   </td><td style=\"text-align: right;\">         3</td><td>2023-07-05   </td></tr>\n<tr><td>41  </td><td>Country Partnership Strategy for India (FY2013 - 17)                </td><td>CPS   </td><td style=\"text-align: right;\">         3</td><td>2015-05-22   </td></tr>\n<tr><td>43  </td><td>Adjusted Net Savings                                                </td><td>WAT   </td><td style=\"text-align: right;\">         3</td><td>2023-06-08   </td></tr>\n<tr><td>45  </td><td>Indonesia Database for Policy and Economic Research                 </td><td>IDD   </td><td style=\"text-align: right;\">         3</td><td>2022-08-11   </td></tr>\n<tr><td>46  </td><td>Sustainable Development Goals                                       </td><td>SDG   </td><td style=\"text-align: right;\">         3</td><td>2022-07-22   </td></tr>\n<tr><td>50  </td><td>Subnational Population                                              </td><td>SNT   </td><td style=\"text-align: right;\">         3</td><td>2017-09-21   </td></tr>\n<tr><td>54  </td><td>Joint External Debt Hub                                             </td><td>JED   </td><td style=\"text-align: right;\">         3</td><td>2023-09-13   </td></tr>\n<tr><td>57  </td><td>WDI Database Archives                                               </td><td>WDA   </td><td style=\"text-align: right;\">         4</td><td>2023-08-10   </td></tr>\n<tr><td>58  </td><td>Universal Health Coverage                                           </td><td>UHC   </td><td style=\"text-align: right;\">         3</td><td>2019-04-25   </td></tr>\n<tr><td>59  </td><td>Wealth Accounts                                                     </td><td>WAC   </td><td style=\"text-align: right;\">         3</td><td>2021-10-27   </td></tr>\n<tr><td>60  </td><td>Economic Fitness                                                    </td><td>EFT   </td><td style=\"text-align: right;\">         3</td><td>2018-04-19   </td></tr>\n<tr><td>61  </td><td>PPPs Regulatory Quality                                             </td><td>PRQ   </td><td style=\"text-align: right;\">         3</td><td>2019-04-25   </td></tr>\n<tr><td>62  </td><td>International Comparison Program (ICP) 2011                         </td><td>ICP   </td><td style=\"text-align: right;\">         4</td><td>2020-08-24   </td></tr>\n<tr><td>63  </td><td>Human Capital Index                                                 </td><td>HCI   </td><td style=\"text-align: right;\">         3</td><td>2020-09-21   </td></tr>\n<tr><td>64  </td><td>Worldwide Bureaucracy Indicators                                    </td><td>WBI   </td><td style=\"text-align: right;\">         3</td><td>2022-09-20   </td></tr>\n<tr><td>65  </td><td>Health Equity and Financial Protection Indicators                   </td><td>HPI   </td><td style=\"text-align: right;\">         3</td><td>2019-11-06   </td></tr>\n<tr><td>66  </td><td>Logistics Performance Index                                         </td><td>LPI   </td><td style=\"text-align: right;\">         3</td><td>2019-10-29   </td></tr>\n<tr><td>67  </td><td>PEFA 2011                                                           </td><td>PF1   </td><td style=\"text-align: right;\">         4</td><td>2022-11-23   </td></tr>\n<tr><td>68  </td><td>PEFA 2016                                                           </td><td>PF6   </td><td style=\"text-align: right;\">         4</td><td>2023-10-27   </td></tr>\n<tr><td>69  </td><td>Global Financial Inclusion and Consumer Protection Survey           </td><td>RFA   </td><td style=\"text-align: right;\">         3</td><td>2019-06-27   </td></tr>\n<tr><td>70  </td><td>Economic Fitness 2                                                  </td><td>EF2   </td><td style=\"text-align: right;\">         3</td><td>2022-07-21   </td></tr>\n<tr><td>71  </td><td>International Comparison Program (ICP) 2005                         </td><td>IC5   </td><td style=\"text-align: right;\">         4</td><td>2021-09-10   </td></tr>\n<tr><td>73  </td><td>Global Financial Inclusion and Consumer Protection Survey (Internal)</td><td>RFI   </td><td style=\"text-align: right;\">         3</td><td>2019-06-27   </td></tr>\n<tr><td>75  </td><td>Environment, Social and Governance (ESG) Data                       </td><td>ESG   </td><td style=\"text-align: right;\">         3</td><td>2023-10-02   </td></tr>\n<tr><td>76  </td><td>Remittance Prices Worldwide (Sending Countries)                     </td><td>RWS   </td><td style=\"text-align: right;\">         3</td><td>2020-12-07   </td></tr>\n<tr><td>77  </td><td>Remittance Prices Worldwide (Receiving Countries)                   </td><td>RWR   </td><td style=\"text-align: right;\">         3</td><td>2020-12-07   </td></tr>\n<tr><td>78  </td><td>ICP 2017                                                            </td><td>IC7   </td><td style=\"text-align: right;\">         4</td><td>2020-10-21   </td></tr>\n<tr><td>79  </td><td>PEFA_GRPFM                                                          </td><td>GRP   </td><td style=\"text-align: right;\">         4</td><td>2023-09-05   </td></tr>\n<tr><td>80  </td><td>Gender Disaggregated Labor Database (GDLD)                          </td><td>GDL   </td><td style=\"text-align: right;\">         4</td><td>2020-07-25   </td></tr>\n<tr><td>81  </td><td>International Debt Statistics: DSSI                                 </td><td>DSI   </td><td style=\"text-align: right;\">         4</td><td>2022-12-06   </td></tr>\n<tr><td>82  </td><td>Global Public Procurement                                           </td><td>GPP   </td><td style=\"text-align: right;\">         3</td><td>2021-03-24   </td></tr>\n<tr><td>83  </td><td>Statistical Performance Indicators (SPI)                            </td><td>SPI   </td><td style=\"text-align: right;\">         3</td><td>2021-04-01   </td></tr>\n<tr><td>84  </td><td>Education Policy                                                    </td><td>EDP   </td><td style=\"text-align: right;\">         3</td><td>2023-01-30   </td></tr>\n<tr><td>85  </td><td>PEFA_2021_SNG                                                       </td><td>SNG   </td><td style=\"text-align: right;\">         4</td><td>2023-10-31   </td></tr>\n<tr><td>86  </td><td>Global Jobs Indicators Database (JOIN)                              </td><td>JON   </td><td style=\"text-align: right;\">         3</td><td>2023-05-22   </td></tr>\n<tr><td>87  </td><td>Country Climate and Development Report (CCDR)                       </td><td>CCD   </td><td style=\"text-align: right;\">         3</td><td>2022-10-07   </td></tr>\n<tr><td>88  </td><td>Food Prices for Nutrition                                           </td><td>FPN   </td><td style=\"text-align: right;\">         4</td><td>2023-07-13   </td></tr>\n<tr><td>89  </td><td>Identification for Development (ID4D) Data                          </td><td>ID4   </td><td style=\"text-align: right;\">         3</td><td>2022-12-21   </td></tr>\n<tr><td>    </td><td>67 elements                                                         </td><td>      </td><td style=\"text-align: right;\">          </td><td>             </td></tr>\n</tbody>\n</table></div>"
     },
     "execution_count": 2,
     "metadata": {},
     "output_type": "execute_result"
    }
   ],
   "source": [
    "wb.source.info()"
   ],
   "metadata": {
    "collapsed": false,
    "ExecuteTime": {
     "end_time": "2023-11-12T06:15:18.842059Z",
     "start_time": "2023-11-12T06:15:18.269088Z"
    }
   },
   "id": "edef936dbc315626"
  },
  {
   "cell_type": "code",
   "execution_count": 10,
   "outputs": [
    {
     "data": {
      "text/plain": "id           value\n-----------  -----------------\nSP.POP.TOTL  Population, total\n             1 elements",
      "text/html": "<div class=\"wbgapi\"><table>\n<thead>\n<tr><th>id         </th><th>value            </th></tr>\n</thead>\n<tbody>\n<tr><td>SP.POP.TOTL</td><td>Population, total</td></tr>\n<tr><td>           </td><td>1 elements       </td></tr>\n</tbody>\n</table></div>"
     },
     "execution_count": 10,
     "metadata": {},
     "output_type": "execute_result"
    }
   ],
   "source": [
    "wb.series.info('SP.POP.TOTL')"
   ],
   "metadata": {
    "collapsed": false,
    "ExecuteTime": {
     "end_time": "2023-11-12T06:16:52.685455Z",
     "start_time": "2023-11-12T06:16:51.820483Z"
    }
   },
   "id": "523daf436e81dc4f"
  },
  {
   "cell_type": "code",
   "execution_count": 12,
   "outputs": [
    {
     "data": {
      "text/plain": "id                    value\n--------------------  -------------------------------------------------------------------------\nEG.GDP.PUSE.KO.PP     GDP per unit of energy use (PPP $ per kg of oil equivalent)\nEG.GDP.PUSE.KO.PP.KD  GDP per unit of energy use (constant 2017 PPP $ per kg of oil equivalent)\nEG.USE.COMM.GD.PP.KD  Energy use (kg of oil equivalent) per $1,000 GDP (constant 2017 PPP)\nNY.GDP.DEFL.KD.ZG     Inflation, GDP deflator (annual %)\nNY.GDP.DEFL.KD.ZG.AD  Inflation, GDP deflator: linked series (annual %)\nNY.GDP.DEFL.ZS        GDP deflator (base year varies by country)\nNY.GDP.DEFL.ZS.AD     GDP deflator: linked series (base year varies by country)\nNY.GDP.DISC.CN        Discrepancy in expenditure estimate of GDP (current LCU)\nNY.GDP.DISC.KN        Discrepancy in expenditure estimate of GDP (constant LCU)\nNY.GDP.MKTP.CD        GDP (current US$)\nNY.GDP.MKTP.CN        GDP (current LCU)\nNY.GDP.MKTP.CN.AD     GDP: linked series (current LCU)\nNY.GDP.MKTP.KD        GDP (constant 2015 US$)\nNY.GDP.MKTP.KD.ZG     GDP growth (annual %)\nNY.GDP.MKTP.KN        GDP (constant LCU)\nNY.GDP.MKTP.PP.CD     GDP, PPP (current international $)\nNY.GDP.MKTP.PP.KD     GDP, PPP (constant 2017 international $)\nNY.GDP.PCAP.CD        GDP per capita (current US$)\nNY.GDP.PCAP.CN        GDP per capita (current LCU)\nNY.GDP.PCAP.KD        GDP per capita (constant 2015 US$)\nNY.GDP.PCAP.KD.ZG     GDP per capita growth (annual %)\nNY.GDP.PCAP.KN        GDP per capita (constant LCU)\nNY.GDP.PCAP.PP.CD     GDP per capita, PPP (current international $)\nNY.GDP.PCAP.PP.KD     GDP per capita, PPP (constant 2017 international $)\nPA.NUS.PPP            PPP conversion factor, GDP (LCU per international $)\nPA.NUS.PPPC.RF        Price level ratio of PPP conversion factor (GDP) to market exchange rate\nSL.GDP.PCAP.EM.KD     GDP per person employed (constant 2017 PPP $)\n                      27 elements",
      "text/html": "<div class=\"wbgapi\"><table>\n<thead>\n<tr><th>id                  </th><th>value                                                                    </th></tr>\n</thead>\n<tbody>\n<tr><td>EG.GDP.PUSE.KO.PP   </td><td>GDP per unit of energy use (PPP $ per kg of oil equivalent)              </td></tr>\n<tr><td>EG.GDP.PUSE.KO.PP.KD</td><td>GDP per unit of energy use (constant 2017 PPP $ per kg of oil equivalent)</td></tr>\n<tr><td>EG.USE.COMM.GD.PP.KD</td><td>Energy use (kg of oil equivalent) per $1,000 GDP (constant 2017 PPP)     </td></tr>\n<tr><td>NY.GDP.DEFL.KD.ZG   </td><td>Inflation, GDP deflator (annual %)                                       </td></tr>\n<tr><td>NY.GDP.DEFL.KD.ZG.AD</td><td>Inflation, GDP deflator: linked series (annual %)                        </td></tr>\n<tr><td>NY.GDP.DEFL.ZS      </td><td>GDP deflator (base year varies by country)                               </td></tr>\n<tr><td>NY.GDP.DEFL.ZS.AD   </td><td>GDP deflator: linked series (base year varies by country)                </td></tr>\n<tr><td>NY.GDP.DISC.CN      </td><td>Discrepancy in expenditure estimate of GDP (current LCU)                 </td></tr>\n<tr><td>NY.GDP.DISC.KN      </td><td>Discrepancy in expenditure estimate of GDP (constant LCU)                </td></tr>\n<tr><td>NY.GDP.MKTP.CD      </td><td>GDP (current US$)                                                        </td></tr>\n<tr><td>NY.GDP.MKTP.CN      </td><td>GDP (current LCU)                                                        </td></tr>\n<tr><td>NY.GDP.MKTP.CN.AD   </td><td>GDP: linked series (current LCU)                                         </td></tr>\n<tr><td>NY.GDP.MKTP.KD      </td><td>GDP (constant 2015 US$)                                                  </td></tr>\n<tr><td>NY.GDP.MKTP.KD.ZG   </td><td>GDP growth (annual %)                                                    </td></tr>\n<tr><td>NY.GDP.MKTP.KN      </td><td>GDP (constant LCU)                                                       </td></tr>\n<tr><td>NY.GDP.MKTP.PP.CD   </td><td>GDP, PPP (current international $)                                       </td></tr>\n<tr><td>NY.GDP.MKTP.PP.KD   </td><td>GDP, PPP (constant 2017 international $)                                 </td></tr>\n<tr><td>NY.GDP.PCAP.CD      </td><td>GDP per capita (current US$)                                             </td></tr>\n<tr><td>NY.GDP.PCAP.CN      </td><td>GDP per capita (current LCU)                                             </td></tr>\n<tr><td>NY.GDP.PCAP.KD      </td><td>GDP per capita (constant 2015 US$)                                       </td></tr>\n<tr><td>NY.GDP.PCAP.KD.ZG   </td><td>GDP per capita growth (annual %)                                         </td></tr>\n<tr><td>NY.GDP.PCAP.KN      </td><td>GDP per capita (constant LCU)                                            </td></tr>\n<tr><td>NY.GDP.PCAP.PP.CD   </td><td>GDP per capita, PPP (current international $)                            </td></tr>\n<tr><td>NY.GDP.PCAP.PP.KD   </td><td>GDP per capita, PPP (constant 2017 international $)                      </td></tr>\n<tr><td>PA.NUS.PPP          </td><td>PPP conversion factor, GDP (LCU per international $)                     </td></tr>\n<tr><td>PA.NUS.PPPC.RF      </td><td>Price level ratio of PPP conversion factor (GDP) to market exchange rate </td></tr>\n<tr><td>SL.GDP.PCAP.EM.KD   </td><td>GDP per person employed (constant 2017 PPP $)                            </td></tr>\n<tr><td>                    </td><td>27 elements                                                              </td></tr>\n</tbody>\n</table></div>"
     },
     "execution_count": 12,
     "metadata": {},
     "output_type": "execute_result"
    }
   ],
   "source": [
    "wb.series.info(q='gdp')"
   ],
   "metadata": {
    "collapsed": false,
    "ExecuteTime": {
     "end_time": "2023-11-12T06:18:29.397886Z",
     "start_time": "2023-11-12T06:18:27.766474Z"
    }
   },
   "id": "f82b2ca4782d0aee"
  },
  {
   "cell_type": "code",
   "execution_count": 13,
   "outputs": [],
   "source": [
    "indicators = [\n",
    "    'NY.GDP.MKTP.CD',\n",
    "    'SP.POP.TOTL', \n",
    "    'NE.EXP.GNFS.CD',\n",
    "    'BX.KLT.DINV.CD.WD',\n",
    "    'FP.CPI.TOTL.ZG', \n",
    "    'NY.GDP.MKTP.KD.ZG'\n",
    "]"
   ],
   "metadata": {
    "collapsed": false,
    "ExecuteTime": {
     "end_time": "2023-11-12T06:20:51.087637Z",
     "start_time": "2023-11-12T06:20:51.085499Z"
    }
   },
   "id": "be97660d0ed70a28"
  },
  {
   "cell_type": "code",
   "execution_count": 16,
   "outputs": [],
   "source": [
    "country_names = ['India', 'Viet nam', 'Indonesia', 'Singapore', 'South Korea', 'Malaysia']\n",
    "country_codes = wb.economy.coder(country_names).values()"
   ],
   "metadata": {
    "collapsed": false,
    "ExecuteTime": {
     "end_time": "2023-11-12T06:21:24.237627Z",
     "start_time": "2023-11-12T06:21:23.332276Z"
    }
   },
   "id": "aee9876b7e71e890"
  },
  {
   "cell_type": "code",
   "execution_count": 17,
   "outputs": [
    {
     "data": {
      "text/plain": "['IND', 'VNM', 'IDN', 'SGP', 'KOR', 'MYS']"
     },
     "execution_count": 17,
     "metadata": {},
     "output_type": "execute_result"
    }
   ],
   "source": [
    "list(country_codes)"
   ],
   "metadata": {
    "collapsed": false,
    "ExecuteTime": {
     "end_time": "2023-11-12T06:21:32.601348Z",
     "start_time": "2023-11-12T06:21:32.597990Z"
    }
   },
   "id": "7f0eba64c1f941c0"
  },
  {
   "cell_type": "markdown",
   "source": [
    "### Load data for a single country and one indicator "
   ],
   "metadata": {
    "collapsed": false
   },
   "id": "ddce99051e7ecd85"
  },
  {
   "cell_type": "code",
   "execution_count": 19,
   "outputs": [],
   "source": [
    "df = wb.data.DataFrame('NY.GDP.MKTP.CD', economy=['SGP'], time=range(1900, 2023), labels=False)"
   ],
   "metadata": {
    "collapsed": false,
    "ExecuteTime": {
     "end_time": "2023-11-12T06:23:15.830078Z",
     "start_time": "2023-11-12T06:23:11.966711Z"
    }
   },
   "id": "665f01b0dfcc914e"
  },
  {
   "cell_type": "code",
   "execution_count": 20,
   "outputs": [
    {
     "data": {
      "text/plain": "               YR1960        YR1961        YR1962        YR1963        YR1964   \neconomy                                                                         \nSGP      7.047517e+08  7.646298e+08  8.262392e+08  9.176080e+08  8.941533e+08  \\\n\n               YR1965        YR1966        YR1967        YR1968        YR1969   \neconomy                                                                         \nSGP      9.746441e+08  1.096426e+09  1.238036e+09  1.425706e+09  1.659894e+09  \\\n\n         ...        YR2013        YR2014        YR2015        YR2016   \neconomy  ...                                                           \nSGP      ...  3.075764e+11  3.148636e+11  3.079985e+11  3.190300e+11  \\\n\n               YR2017        YR2018        YR2019        YR2020        YR2021   \neconomy                                                                         \nSGP      3.432729e+11  3.768696e+11  3.768375e+11  3.483922e+11  4.237970e+11  \\\n\n               YR2022  \neconomy                \nSGP      4.667885e+11  \n\n[1 rows x 63 columns]",
      "text/html": "<div>\n<style scoped>\n    .dataframe tbody tr th:only-of-type {\n        vertical-align: middle;\n    }\n\n    .dataframe tbody tr th {\n        vertical-align: top;\n    }\n\n    .dataframe thead th {\n        text-align: right;\n    }\n</style>\n<table border=\"1\" class=\"dataframe\">\n  <thead>\n    <tr style=\"text-align: right;\">\n      <th></th>\n      <th>YR1960</th>\n      <th>YR1961</th>\n      <th>YR1962</th>\n      <th>YR1963</th>\n      <th>YR1964</th>\n      <th>YR1965</th>\n      <th>YR1966</th>\n      <th>YR1967</th>\n      <th>YR1968</th>\n      <th>YR1969</th>\n      <th>...</th>\n      <th>YR2013</th>\n      <th>YR2014</th>\n      <th>YR2015</th>\n      <th>YR2016</th>\n      <th>YR2017</th>\n      <th>YR2018</th>\n      <th>YR2019</th>\n      <th>YR2020</th>\n      <th>YR2021</th>\n      <th>YR2022</th>\n    </tr>\n    <tr>\n      <th>economy</th>\n      <th></th>\n      <th></th>\n      <th></th>\n      <th></th>\n      <th></th>\n      <th></th>\n      <th></th>\n      <th></th>\n      <th></th>\n      <th></th>\n      <th></th>\n      <th></th>\n      <th></th>\n      <th></th>\n      <th></th>\n      <th></th>\n      <th></th>\n      <th></th>\n      <th></th>\n      <th></th>\n      <th></th>\n    </tr>\n  </thead>\n  <tbody>\n    <tr>\n      <th>SGP</th>\n      <td>7.047517e+08</td>\n      <td>7.646298e+08</td>\n      <td>8.262392e+08</td>\n      <td>9.176080e+08</td>\n      <td>8.941533e+08</td>\n      <td>9.746441e+08</td>\n      <td>1.096426e+09</td>\n      <td>1.238036e+09</td>\n      <td>1.425706e+09</td>\n      <td>1.659894e+09</td>\n      <td>...</td>\n      <td>3.075764e+11</td>\n      <td>3.148636e+11</td>\n      <td>3.079985e+11</td>\n      <td>3.190300e+11</td>\n      <td>3.432729e+11</td>\n      <td>3.768696e+11</td>\n      <td>3.768375e+11</td>\n      <td>3.483922e+11</td>\n      <td>4.237970e+11</td>\n      <td>4.667885e+11</td>\n    </tr>\n  </tbody>\n</table>\n<p>1 rows × 63 columns</p>\n</div>"
     },
     "execution_count": 20,
     "metadata": {},
     "output_type": "execute_result"
    }
   ],
   "source": [
    "df"
   ],
   "metadata": {
    "collapsed": false,
    "ExecuteTime": {
     "end_time": "2023-11-12T06:23:24.310389Z",
     "start_time": "2023-11-12T06:23:24.301330Z"
    }
   },
   "id": "144ed1767060cd93"
  },
  {
   "cell_type": "code",
   "execution_count": 21,
   "outputs": [
    {
     "data": {
      "text/plain": "economy           SGP\nYR1960   7.047517e+08\nYR1961   7.646298e+08\nYR1962   8.262392e+08\nYR1963   9.176080e+08\nYR1964   8.941533e+08\n...               ...\nYR2018   3.768696e+11\nYR2019   3.768375e+11\nYR2020   3.483922e+11\nYR2021   4.237970e+11\nYR2022   4.667885e+11\n\n[63 rows x 1 columns]",
      "text/html": "<div>\n<style scoped>\n    .dataframe tbody tr th:only-of-type {\n        vertical-align: middle;\n    }\n\n    .dataframe tbody tr th {\n        vertical-align: top;\n    }\n\n    .dataframe thead th {\n        text-align: right;\n    }\n</style>\n<table border=\"1\" class=\"dataframe\">\n  <thead>\n    <tr style=\"text-align: right;\">\n      <th>economy</th>\n      <th>SGP</th>\n    </tr>\n  </thead>\n  <tbody>\n    <tr>\n      <th>YR1960</th>\n      <td>7.047517e+08</td>\n    </tr>\n    <tr>\n      <th>YR1961</th>\n      <td>7.646298e+08</td>\n    </tr>\n    <tr>\n      <th>YR1962</th>\n      <td>8.262392e+08</td>\n    </tr>\n    <tr>\n      <th>YR1963</th>\n      <td>9.176080e+08</td>\n    </tr>\n    <tr>\n      <th>YR1964</th>\n      <td>8.941533e+08</td>\n    </tr>\n    <tr>\n      <th>...</th>\n      <td>...</td>\n    </tr>\n    <tr>\n      <th>YR2018</th>\n      <td>3.768696e+11</td>\n    </tr>\n    <tr>\n      <th>YR2019</th>\n      <td>3.768375e+11</td>\n    </tr>\n    <tr>\n      <th>YR2020</th>\n      <td>3.483922e+11</td>\n    </tr>\n    <tr>\n      <th>YR2021</th>\n      <td>4.237970e+11</td>\n    </tr>\n    <tr>\n      <th>YR2022</th>\n      <td>4.667885e+11</td>\n    </tr>\n  </tbody>\n</table>\n<p>63 rows × 1 columns</p>\n</div>"
     },
     "execution_count": 21,
     "metadata": {},
     "output_type": "execute_result"
    }
   ],
   "source": [
    "df = df.transpose().dropna()\n",
    "df"
   ],
   "metadata": {
    "collapsed": false,
    "ExecuteTime": {
     "end_time": "2023-11-12T06:24:06.807306Z",
     "start_time": "2023-11-12T06:24:06.804828Z"
    }
   },
   "id": "6be6d954cbb5f41d"
  },
  {
   "cell_type": "code",
   "execution_count": 22,
   "outputs": [],
   "source": [
    "df.reset_index(inplace=True, names=['year'])"
   ],
   "metadata": {
    "collapsed": false,
    "ExecuteTime": {
     "end_time": "2023-11-12T06:24:23.709375Z",
     "start_time": "2023-11-12T06:24:23.708625Z"
    }
   },
   "id": "2b4587dc23316f2a"
  },
  {
   "cell_type": "code",
   "execution_count": 24,
   "outputs": [],
   "source": [
    "df.year = df.year.str.replace('YR', '').astype(int)"
   ],
   "metadata": {
    "collapsed": false,
    "ExecuteTime": {
     "end_time": "2023-11-12T06:24:49.293803Z",
     "start_time": "2023-11-12T06:24:49.273824Z"
    }
   },
   "id": "a7de99ceabb2799c"
  },
  {
   "cell_type": "code",
   "execution_count": 27,
   "outputs": [
    {
     "data": {
      "text/plain": "<Axes: xlabel='year'>"
     },
     "execution_count": 27,
     "metadata": {},
     "output_type": "execute_result"
    },
    {
     "data": {
      "text/plain": "<Figure size 1000x500 with 1 Axes>",
      "image/png": "[encoded data removed]"
     },
     "metadata": {},
     "output_type": "display_data"
    }
   ],
   "source": [
    "df.plot(x='year', y='SGP', figsize=(10, 5))"
   ],
   "metadata": {
    "collapsed": false,
    "ExecuteTime": {
     "end_time": "2023-11-12T06:25:44.673430Z",
     "start_time": "2023-11-12T06:25:41.771263Z"
    }
   },
   "id": "ce65d0a6b684d5ae"
  }
 ],
 "metadata": {
  "kernelspec": {
   "display_name": "Python 3",
   "language": "python",
   "name": "python3"
  },
  "language_info": {
   "codemirror_mode": {
    "name": "ipython",
    "version": 2
   },
   "file_extension": ".py",
   "mimetype": "text/x-python",
   "name": "python",
   "nbconvert_exporter": "python",
   "pygments_lexer": "ipython2",
   "version": "2.7.6"
  }
 },
 "nbformat": 4,
 "nbformat_minor": 5
}
